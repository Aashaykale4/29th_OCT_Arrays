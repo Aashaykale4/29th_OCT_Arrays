{
 "cells": [
  {
   "cell_type": "code",
   "execution_count": 9,
   "metadata": {},
   "outputs": [
    {
     "data": {
      "text/plain": [
       "True"
      ]
     },
     "execution_count": 9,
     "metadata": {},
     "output_type": "execute_result"
    }
   ],
   "source": [
    "# 1. Given an array, check if it contains any duplicates or not. \n",
    "\n",
    "# arr = [1, 2, 4, 2, 5, 9] \n",
    "\n",
    "# Output = True\n",
    "arr = [1, 2, 4, 2, 5, 9]         #given array\n",
    "def duplicate(arr):\n",
    "  arr.sort()                     #sorting array\n",
    "  for i in range(len(arr)):\n",
    "    if arr[i]==arr[i-1]:         #checking previous value == next value\n",
    "      return True                # if yes True\n",
    "  return False                   #else false\n",
    " \n",
    "  \n",
    "duplicate(arr)\n",
    "\n",
    "    \n",
    "\n"
   ]
  },
  {
   "cell_type": "code",
   "execution_count": 10,
   "metadata": {},
   "outputs": [
    {
     "name": "stdout",
     "output_type": "stream",
     "text": [
      "[5, 6, 7, 1, 2, 3, 4]\n"
     ]
    }
   ],
   "source": [
    "# 2. Given an array and an integer k, rotate the array to the right by k steps. \n",
    "\n",
    "# arr = [1, 2, 3, 4, 5, 6, 7] \n",
    "#k = 3 \n",
    "\n",
    "# Output = [5, 6, 7, 1, 2, 3, 4]\n",
    "arr = [1, 2, 3, 4, 5, 6, 7]         #given array\n",
    "arr1=arr.copy()                     #coping given arr to new arr1\n",
    "k = 3                               #k steps\n",
    "m=len(arr)-k                        #subtracting k from len(arr)\n",
    "for i in range(m):\n",
    "    arr.pop(0)                      #removing elements from arr according to m value\n",
    "for i in range(k):\n",
    "    arr1.pop()                      #removing elements from arr1 according to k value\n",
    "    \n",
    "arr3=arr+arr1                       #appending arr1 to arr \n",
    "print(arr3)"
   ]
  },
  {
   "cell_type": "code",
   "execution_count": 41,
   "metadata": {},
   "outputs": [
    {
     "name": "stdout",
     "output_type": "stream",
     "text": [
      "[12, 9, 7, 5, 4, 2]\n"
     ]
    }
   ],
   "source": [
    "# 3. Reverse the given array in-place, means without using any extra data structure. \n",
    "\n",
    "# arr = [2, 4, 5, 7, 9, 12] \n",
    "\n",
    "# Output = [12, 9, 7, 5, 4, 2]\n",
    "arr = [2, 4, 5, 7, 9, 12]      #given array\n",
    "for i in range(1,len(arr)):    \n",
    "    arr.append(arr[-i])        #appending elements from last\n",
    "    arr.pop(-(i+1))            #deleting the appended element\n",
    "arr.append(arr[0])             #appending 1st element\n",
    "arr.pop(0)                     #deleting 1st element of arr\n",
    "print(arr)\n",
    "\n",
    "\n"
   ]
  },
  {
   "cell_type": "code",
   "execution_count": 12,
   "metadata": {},
   "outputs": [
    {
     "name": "stdout",
     "output_type": "stream",
     "text": [
      "20\n"
     ]
    }
   ],
   "source": [
    "# 4. Given an array of integers, find the maximum element in an array\n",
    "\n",
    "#  arr = [10, 5, 20, 8, 15]\n",
    "\n",
    "#  Output = 20\n",
    "arr = [10, 5, 20, 8, 15]  #given array\n",
    "arr=sorted(arr)           #sorting the array\n",
    "print(arr[-1])            #printing last element of sorted array"
   ]
  },
  {
   "cell_type": "code",
   "execution_count": 13,
   "metadata": {},
   "outputs": [
    {
     "name": "stdout",
     "output_type": "stream",
     "text": [
      "[1, 2, 3, 4, 5]\n"
     ]
    }
   ],
   "source": [
    "# 5. Given a sorted array, remove the duplicate element without using any extra data structure. \n",
    "\n",
    "# arr = [1, 1, 2, 2, 2, 3, 3, 4, 4, 4, 5, 5] \n",
    "\n",
    "# Output = [1, 2, 3, 4, 5]\n",
    "\n",
    "arr = [1, 1, 2, 2, 2, 3, 3, 4, 4, 4, 5, 5]  #given array\n",
    "arr1=[]                                     #empty array\n",
    "for i in arr:                               \n",
    "    if i not in arr1:                       #if element of arr is not in arr1\n",
    "        arr1.append(i)                      #append element to arr1\n",
    "print(arr1)                                 #printing arr1\n"
   ]
  },
  {
   "cell_type": "code",
   "execution_count": null,
   "metadata": {},
   "outputs": [],
   "source": [
    "'29th_OCT_Arrays.ipynb'"
   ]
  }
 ],
 "metadata": {
  "kernelspec": {
   "display_name": "Python 3",
   "language": "python",
   "name": "python3"
  },
  "language_info": {
   "codemirror_mode": {
    "name": "ipython",
    "version": 3
   },
   "file_extension": ".py",
   "mimetype": "text/x-python",
   "name": "python",
   "nbconvert_exporter": "python",
   "pygments_lexer": "ipython3",
   "version": "3.11.5"
  }
 },
 "nbformat": 4,
 "nbformat_minor": 2
}
